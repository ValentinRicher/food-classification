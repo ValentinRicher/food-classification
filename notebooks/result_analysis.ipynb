{
 "metadata": {
  "language_info": {
   "codemirror_mode": {
    "name": "ipython",
    "version": 3
   },
   "file_extension": ".py",
   "mimetype": "text/x-python",
   "name": "python",
   "nbconvert_exporter": "python",
   "pygments_lexer": "ipython3",
   "version": "3.6.12-final"
  },
  "orig_nbformat": 2,
  "kernelspec": {
   "name": "python361264bitvenvvenv97c299276dd2472b957b3f49f7df51e6",
   "display_name": "Python 3.6.12 64-bit ('venv': venv)",
   "language": "python"
  }
 },
 "nbformat": 4,
 "nbformat_minor": 2,
 "cells": [
  {
   "cell_type": "code",
   "execution_count": 19,
   "metadata": {},
   "outputs": [],
   "source": [
    "import pandas as pd\n",
    "import sys\n",
    "sys.path.append(\"/home/vricher/example-image\")"
   ]
  },
  {
   "cell_type": "code",
   "execution_count": 15,
   "metadata": {},
   "outputs": [
    {
     "output_type": "execute_result",
     "data": {
      "text/plain": [
       "   precision  recall  f1-score  support\n",
       "0   0.717949   0.784  0.749522    250.0\n",
       "1   0.846743   0.884  0.864971    250.0\n",
       "2   0.903226   0.896  0.899598    250.0\n",
       "3   0.867424   0.916  0.891051    250.0\n",
       "4   0.777778   0.868  0.820416    250.0"
      ],
      "text/html": "<div>\n<style scoped>\n    .dataframe tbody tr th:only-of-type {\n        vertical-align: middle;\n    }\n\n    .dataframe tbody tr th {\n        vertical-align: top;\n    }\n\n    .dataframe thead th {\n        text-align: right;\n    }\n</style>\n<table border=\"1\" class=\"dataframe\">\n  <thead>\n    <tr style=\"text-align: right;\">\n      <th></th>\n      <th>precision</th>\n      <th>recall</th>\n      <th>f1-score</th>\n      <th>support</th>\n    </tr>\n  </thead>\n  <tbody>\n    <tr>\n      <th>0</th>\n      <td>0.717949</td>\n      <td>0.784</td>\n      <td>0.749522</td>\n      <td>250.0</td>\n    </tr>\n    <tr>\n      <th>1</th>\n      <td>0.846743</td>\n      <td>0.884</td>\n      <td>0.864971</td>\n      <td>250.0</td>\n    </tr>\n    <tr>\n      <th>2</th>\n      <td>0.903226</td>\n      <td>0.896</td>\n      <td>0.899598</td>\n      <td>250.0</td>\n    </tr>\n    <tr>\n      <th>3</th>\n      <td>0.867424</td>\n      <td>0.916</td>\n      <td>0.891051</td>\n      <td>250.0</td>\n    </tr>\n    <tr>\n      <th>4</th>\n      <td>0.777778</td>\n      <td>0.868</td>\n      <td>0.820416</td>\n      <td>250.0</td>\n    </tr>\n  </tbody>\n</table>\n</div>"
     },
     "metadata": {},
     "execution_count": 15
    }
   ],
   "source": [
    "report = pd.read_csv('report.csv', index_col=0)\n",
    "report.head()"
   ]
  },
  {
   "cell_type": "code",
   "execution_count": 24,
   "metadata": {},
   "outputs": [
    {
     "output_type": "stream",
     "name": "stdout",
     "text": [
      "['Apple pie', 'Baby back ribs', 'Baklava', 'Beef carpaccio', 'Beef tartare', 'Beet salad', 'Beignets', 'Bibimbap', 'Bread pudding', 'Breakfast burrito', 'Bruschetta', 'Caesar salad', 'Cannoli', 'Caprese salad', 'Carrot cake', 'Ceviche', 'Cheesecake', 'Cheese plate', 'Chicken curry', 'Chicken quesadilla', 'Chicken wings', 'Chocolate cake', 'Chocolate mousse', 'Churros', 'Clam chowder', 'Club sandwich', 'Crab cakes', 'Creme brulee', 'Croque madame', 'Cup cakes', 'Deviled eggs', 'Donuts', 'Dumplings', 'Edamame', 'Eggs benedict', 'Escargots', 'Falafel', 'Filet mignon', 'Fish and chips', 'Foie gras', 'French fries', 'French onion soup', 'French toast', 'Fried calamari', 'Fried rice', 'Frozen yogurt', 'Garlic bread', 'Gnocchi', 'Greek salad', 'Grilled cheese sandwich', 'Grilled salmon', 'Guacamole', 'Gyoza', 'Hamburger', 'Hot and sour soup', 'Hot dog', 'Huevos rancheros', 'Hummus', 'Ice cream', 'Lasagna', 'Lobster bisque', 'Lobster roll sandwich', 'Macaroni and cheese', 'Macarons', 'Miso soup', 'Mussels', 'Nachos', 'Omelette', 'Onion rings', 'Oysters', 'Pad thai', 'Paella', 'Pancakes', 'Panna cotta', 'Peking duck', 'Pho', 'Pizza', 'Pork chop', 'Poutine', 'Prime rib', 'Pulled pork sandwich', 'Ramen', 'Ravioli', 'Red velvet cake', 'Risotto', 'Samosa', 'Sashimi', 'Scallops', 'Seaweed salad', 'Shrimp and grits', 'Spaghetti bolognese', 'Spaghetti carbonara', 'Spring rolls', 'Steak', 'Strawberry shortcake', 'Sushi', 'Tacos', 'Takoyaki', 'Tiramisu', 'Tuna tartare', 'Waffles']\n"
     ]
    }
   ],
   "source": [
    "with open('/home/vricher/example-image/src/tools/classes.txt', 'r') as f:\n",
    "    classes = f.read().splitlines()\n",
    "    print(classes)"
   ]
  },
  {
   "source": [
    "# Best scores"
   ],
   "cell_type": "markdown",
   "metadata": {}
  },
  {
   "cell_type": "code",
   "execution_count": 25,
   "metadata": {},
   "outputs": [
    {
     "output_type": "stream",
     "name": "stdout",
     "text": [
      "Best precision 1.0 for class Edamame\n"
     ]
    }
   ],
   "source": [
    "# best precision\n",
    "best_precision = report['precision'].max()\n",
    "best_precision_class = classes[report['precision'].argmax()]\n",
    "print('Best precision {} for class {}'.format(best_precision, best_precision_class))"
   ]
  },
  {
   "cell_type": "code",
   "execution_count": 27,
   "metadata": {},
   "outputs": [
    {
     "output_type": "stream",
     "name": "stdout",
     "text": [
      "Best recall 0.996 for class Edamame\n"
     ]
    }
   ],
   "source": [
    "# best recall\n",
    "best_recall = report['recall'].max()\n",
    "best_recall_class = classes[report['recall'].argmax()]\n",
    "print('Best recall {} for class {}'.format(best_recall, best_recall_class))"
   ]
  },
  {
   "cell_type": "code",
   "execution_count": 31,
   "metadata": {},
   "outputs": [
    {
     "output_type": "stream",
     "name": "stdout",
     "text": [
      "Best f1 score 0.997995991983968 for class Edamame\n"
     ]
    }
   ],
   "source": [
    "# best f1 score\n",
    "best_f1 = report['f1-score'].max()\n",
    "best_f1_class = classes[report['f1-score'].argmax()]\n",
    "print('Best f1 score {} for class {}'.format(best_f1, best_f1_class))"
   ]
  },
  {
   "source": [
    "# Lowest scores"
   ],
   "cell_type": "markdown",
   "metadata": {}
  },
  {
   "cell_type": "code",
   "execution_count": 35,
   "metadata": {},
   "outputs": [
    {
     "output_type": "stream",
     "name": "stdout",
     "text": [
      "Lowest precision 0.6423611111111112 for class Ravioli\n"
     ]
    }
   ],
   "source": [
    "# lowest precision\n",
    "lowest_precision = report['precision'].min()\n",
    "lowest_precision_class = classes[report['precision'].argmin()]\n",
    "print('Lowest precision {} for class {}'.format(lowest_precision, lowest_precision_class))"
   ]
  },
  {
   "cell_type": "code",
   "execution_count": 36,
   "metadata": {},
   "outputs": [
    {
     "output_type": "stream",
     "name": "stdout",
     "text": [
      "Lowest recall 0.5 for class Steak\n"
     ]
    }
   ],
   "source": [
    "# lowest recall\n",
    "lowest_recall = report['recall'].min()\n",
    "lowest_recall_class = classes[report['recall'].argmin()]\n",
    "print('Lowest recall {} for class {}'.format(lowest_recall, lowest_recall_class))"
   ]
  },
  {
   "cell_type": "code",
   "execution_count": 37,
   "metadata": {},
   "outputs": [
    {
     "output_type": "stream",
     "name": "stdout",
     "text": [
      "Lowest f1 score 0.5643340857787811 for class Steak\n"
     ]
    }
   ],
   "source": [
    "# lowest f1-score\n",
    "lowest_f1 = report['f1-score'].min()\n",
    "lowest_f1_class = classes[report['f1-score'].argmin()]\n",
    "print('Lowest f1 score {} for class {}'.format(lowest_f1, lowest_f1_class))"
   ]
  },
  {
   "cell_type": "code",
   "execution_count": null,
   "metadata": {},
   "outputs": [],
   "source": []
  }
 ]
}